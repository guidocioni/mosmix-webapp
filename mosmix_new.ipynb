{
 "metadata": {
  "language_info": {
   "codemirror_mode": {
    "name": "ipython",
    "version": 3
   },
   "file_extension": ".py",
   "mimetype": "text/x-python",
   "name": "python",
   "nbconvert_exporter": "python",
   "pygments_lexer": "ipython3",
   "version": "3.8.5-final"
  },
  "orig_nbformat": 2,
  "kernelspec": {
   "name": "python385jvsc74a57bd031f2aee4e71d21fbe5cf8b01ff0e069b9275f58929596ceb00d14d90e3e16cd6",
   "display_name": "Python 3.8.5 64-bit"
  }
 },
 "nbformat": 4,
 "nbformat_minor": 2,
 "cells": [
  {
   "cell_type": "code",
   "execution_count": 36,
   "metadata": {},
   "outputs": [],
   "source": [
    "from wetterdienst.provider.dwd.forecast import DwdMosmixType\n",
    "from wetterdienst import Wetterdienst\n",
    "import pandas as pd"
   ]
  },
  {
   "cell_type": "code",
   "execution_count": 39,
   "metadata": {},
   "outputs": [],
   "source": [
    "API = Wetterdienst(provider=\"dwd\", kind=\"forecast\")"
   ]
  },
  {
   "cell_type": "code",
   "execution_count": 41,
   "metadata": {},
   "outputs": [],
   "source": [
    "stations = API(parameter=\"large\",\n",
    "                mosmix_type=DwdMosmixType.LARGE,\n",
    "                humanize=True,\n",
    "                tidy=True).filter(station_id=[\"01001\"])"
   ]
  },
  {
   "cell_type": "code",
   "execution_count": 28,
   "metadata": {},
   "outputs": [
    {
     "output_type": "stream",
     "name": "stderr",
     "text": [
      "  0%|          | 0/1 [00:00<?, ?it/s]\n",
      "https://opendata.dwd.de/weather/local_forecasts/mos/MOSMIX_L/single_stations/01001/kml/MOSMIX_L_LATEST_01001.kmz: 100%|██████████| 15.8k/15.8k [00:00<00:00, 7.44MiB/s]\n",
      "100%|██████████| 1/1 [00:02<00:00,  2.50s/it]\n"
     ]
    }
   ],
   "source": [
    "df = stations.values.all().df"
   ]
  },
  {
   "cell_type": "code",
   "execution_count": 32,
   "metadata": {},
   "outputs": [],
   "source": [
    "    df.parameter = df.parameter.astype(str)\n",
    "    # Do some units conversion\n",
    "    params = ['TEMPERATURE_AIR_200', 'TEMPERATURE_DEW_POINT_200', 'TEMPERATURE_AIR_MAX_200',\n",
    "              'TEMPERATURE_AIR_MIN_200', 'TEMPERATURE_AIR_005', 'TEMPERATURE_AIR_MIN_005_LAST_12H',\n",
    "              \"TEMPERATURE_AIR_200_LAST_24H\"]\n",
    "    df.loc[df.parameter.isin(params), 'value'] = df.loc[df.parameter.isin(\n",
    "        params), 'value'] - 273.15\n",
    "    #\n",
    "    params = ['WIND_SPEED', 'WIND_GUST_MAX_LAST_1H', 'WIND_GUST_MAX_LAST_3H',\n",
    "              'WIND_GUST_MAX_LAST_12H']\n",
    "    df.loc[df.parameter.isin(params), 'value'] = df.loc[df.parameter.isin(\n",
    "        params), 'value'] * 3.6\n",
    "    #\n",
    "    df.loc[df.parameter == 'PRESSURE_AIR_SURFACE_REDUCED', 'value'] = \\\n",
    "        df.loc[df.parameter == 'PRESSURE_AIR_SURFACE_REDUCED', 'value'] / 100."
   ]
  },
  {
   "cell_type": "code",
   "execution_count": 33,
   "metadata": {},
   "outputs": [
    {
     "output_type": "execute_result",
     "data": {
      "text/plain": [
       "      station_id                      date  \\\n",
       "0          01001 2021-04-08 04:00:00+00:00   \n",
       "1          01001 2021-04-08 05:00:00+00:00   \n",
       "2          01001 2021-04-08 06:00:00+00:00   \n",
       "3          01001 2021-04-08 07:00:00+00:00   \n",
       "4          01001 2021-04-08 08:00:00+00:00   \n",
       "...          ...                       ...   \n",
       "28153      01001 2021-04-18 06:00:00+00:00   \n",
       "28154      01001 2021-04-18 07:00:00+00:00   \n",
       "28155      01001 2021-04-18 08:00:00+00:00   \n",
       "28156      01001 2021-04-18 09:00:00+00:00   \n",
       "28157      01001 2021-04-18 10:00:00+00:00   \n",
       "\n",
       "                                   parameter   value quality  \n",
       "0               PRESSURE_AIR_SURFACE_REDUCED  1006.1     NaN  \n",
       "1               PRESSURE_AIR_SURFACE_REDUCED  1005.3     NaN  \n",
       "2               PRESSURE_AIR_SURFACE_REDUCED  1004.6     NaN  \n",
       "3               PRESSURE_AIR_SURFACE_REDUCED  1004.0     NaN  \n",
       "4               PRESSURE_AIR_SURFACE_REDUCED  1003.6     NaN  \n",
       "...                                      ...     ...     ...  \n",
       "28153  WEATHER_SIGNIFICANT_OPTIONAL_LAST_24H     NaN     NaN  \n",
       "28154  WEATHER_SIGNIFICANT_OPTIONAL_LAST_24H     NaN     NaN  \n",
       "28155  WEATHER_SIGNIFICANT_OPTIONAL_LAST_24H     NaN     NaN  \n",
       "28156  WEATHER_SIGNIFICANT_OPTIONAL_LAST_24H     NaN     NaN  \n",
       "28157  WEATHER_SIGNIFICANT_OPTIONAL_LAST_24H     NaN     NaN  \n",
       "\n",
       "[28158 rows x 5 columns]"
      ],
      "text/html": "<div>\n<style scoped>\n    .dataframe tbody tr th:only-of-type {\n        vertical-align: middle;\n    }\n\n    .dataframe tbody tr th {\n        vertical-align: top;\n    }\n\n    .dataframe thead th {\n        text-align: right;\n    }\n</style>\n<table border=\"1\" class=\"dataframe\">\n  <thead>\n    <tr style=\"text-align: right;\">\n      <th></th>\n      <th>station_id</th>\n      <th>date</th>\n      <th>parameter</th>\n      <th>value</th>\n      <th>quality</th>\n    </tr>\n  </thead>\n  <tbody>\n    <tr>\n      <th>0</th>\n      <td>01001</td>\n      <td>2021-04-08 04:00:00+00:00</td>\n      <td>PRESSURE_AIR_SURFACE_REDUCED</td>\n      <td>1006.1</td>\n      <td>NaN</td>\n    </tr>\n    <tr>\n      <th>1</th>\n      <td>01001</td>\n      <td>2021-04-08 05:00:00+00:00</td>\n      <td>PRESSURE_AIR_SURFACE_REDUCED</td>\n      <td>1005.3</td>\n      <td>NaN</td>\n    </tr>\n    <tr>\n      <th>2</th>\n      <td>01001</td>\n      <td>2021-04-08 06:00:00+00:00</td>\n      <td>PRESSURE_AIR_SURFACE_REDUCED</td>\n      <td>1004.6</td>\n      <td>NaN</td>\n    </tr>\n    <tr>\n      <th>3</th>\n      <td>01001</td>\n      <td>2021-04-08 07:00:00+00:00</td>\n      <td>PRESSURE_AIR_SURFACE_REDUCED</td>\n      <td>1004.0</td>\n      <td>NaN</td>\n    </tr>\n    <tr>\n      <th>4</th>\n      <td>01001</td>\n      <td>2021-04-08 08:00:00+00:00</td>\n      <td>PRESSURE_AIR_SURFACE_REDUCED</td>\n      <td>1003.6</td>\n      <td>NaN</td>\n    </tr>\n    <tr>\n      <th>...</th>\n      <td>...</td>\n      <td>...</td>\n      <td>...</td>\n      <td>...</td>\n      <td>...</td>\n    </tr>\n    <tr>\n      <th>28153</th>\n      <td>01001</td>\n      <td>2021-04-18 06:00:00+00:00</td>\n      <td>WEATHER_SIGNIFICANT_OPTIONAL_LAST_24H</td>\n      <td>NaN</td>\n      <td>NaN</td>\n    </tr>\n    <tr>\n      <th>28154</th>\n      <td>01001</td>\n      <td>2021-04-18 07:00:00+00:00</td>\n      <td>WEATHER_SIGNIFICANT_OPTIONAL_LAST_24H</td>\n      <td>NaN</td>\n      <td>NaN</td>\n    </tr>\n    <tr>\n      <th>28155</th>\n      <td>01001</td>\n      <td>2021-04-18 08:00:00+00:00</td>\n      <td>WEATHER_SIGNIFICANT_OPTIONAL_LAST_24H</td>\n      <td>NaN</td>\n      <td>NaN</td>\n    </tr>\n    <tr>\n      <th>28156</th>\n      <td>01001</td>\n      <td>2021-04-18 09:00:00+00:00</td>\n      <td>WEATHER_SIGNIFICANT_OPTIONAL_LAST_24H</td>\n      <td>NaN</td>\n      <td>NaN</td>\n    </tr>\n    <tr>\n      <th>28157</th>\n      <td>01001</td>\n      <td>2021-04-18 10:00:00+00:00</td>\n      <td>WEATHER_SIGNIFICANT_OPTIONAL_LAST_24H</td>\n      <td>NaN</td>\n      <td>NaN</td>\n    </tr>\n  </tbody>\n</table>\n<p>28158 rows × 5 columns</p>\n</div>"
     },
     "metadata": {},
     "execution_count": 33
    }
   ],
   "source": [
    "df"
   ]
  },
  {
   "cell_type": "code",
   "execution_count": 34,
   "metadata": {},
   "outputs": [
    {
     "output_type": "execute_result",
     "data": {
      "text/plain": [
       "  station_id icao_id from_date to_date  height  latitude  longitude  \\\n",
       "0      EW002     NaN       NaT     NaT    71.0     53.17      12.22   \n",
       "1      EW003     NaN       NaT     NaT    55.0     52.42      11.32   \n",
       "2      EW004     NaN       NaT     NaT   600.0     50.38       6.47   \n",
       "3      EW005     NaN       NaT     NaT    99.0     51.50      12.38   \n",
       "4      EW006     NaN       NaT     NaT     0.0     53.33       7.15   \n",
       "\n",
       "  station_name state  \n",
       "0   Beveringen   nan  \n",
       "1    Calvoerde   nan  \n",
       "2  Dahlem-Berg   nan  \n",
       "3    Delitzsch   nan  \n",
       "4        Emden   nan  "
      ],
      "text/html": "<div>\n<style scoped>\n    .dataframe tbody tr th:only-of-type {\n        vertical-align: middle;\n    }\n\n    .dataframe tbody tr th {\n        vertical-align: top;\n    }\n\n    .dataframe thead th {\n        text-align: right;\n    }\n</style>\n<table border=\"1\" class=\"dataframe\">\n  <thead>\n    <tr style=\"text-align: right;\">\n      <th></th>\n      <th>station_id</th>\n      <th>icao_id</th>\n      <th>from_date</th>\n      <th>to_date</th>\n      <th>height</th>\n      <th>latitude</th>\n      <th>longitude</th>\n      <th>station_name</th>\n      <th>state</th>\n    </tr>\n  </thead>\n  <tbody>\n    <tr>\n      <th>0</th>\n      <td>EW002</td>\n      <td>NaN</td>\n      <td>NaT</td>\n      <td>NaT</td>\n      <td>71.0</td>\n      <td>53.17</td>\n      <td>12.22</td>\n      <td>Beveringen</td>\n      <td>nan</td>\n    </tr>\n    <tr>\n      <th>1</th>\n      <td>EW003</td>\n      <td>NaN</td>\n      <td>NaT</td>\n      <td>NaT</td>\n      <td>55.0</td>\n      <td>52.42</td>\n      <td>11.32</td>\n      <td>Calvoerde</td>\n      <td>nan</td>\n    </tr>\n    <tr>\n      <th>2</th>\n      <td>EW004</td>\n      <td>NaN</td>\n      <td>NaT</td>\n      <td>NaT</td>\n      <td>600.0</td>\n      <td>50.38</td>\n      <td>6.47</td>\n      <td>Dahlem-Berg</td>\n      <td>nan</td>\n    </tr>\n    <tr>\n      <th>3</th>\n      <td>EW005</td>\n      <td>NaN</td>\n      <td>NaT</td>\n      <td>NaT</td>\n      <td>99.0</td>\n      <td>51.50</td>\n      <td>12.38</td>\n      <td>Delitzsch</td>\n      <td>nan</td>\n    </tr>\n    <tr>\n      <th>4</th>\n      <td>EW006</td>\n      <td>NaN</td>\n      <td>NaT</td>\n      <td>NaT</td>\n      <td>0.0</td>\n      <td>53.33</td>\n      <td>7.15</td>\n      <td>Emden</td>\n      <td>nan</td>\n    </tr>\n  </tbody>\n</table>\n</div>"
     },
     "metadata": {},
     "execution_count": 34
    }
   ],
   "source": [
    "stations = API(parameter=\"large\", mosmix_type=DwdMosmixType.LARGE)\n",
    "stations.all().df.head()"
   ]
  },
  {
   "cell_type": "code",
   "execution_count": null,
   "metadata": {},
   "outputs": [],
   "source": []
  }
 ]
}