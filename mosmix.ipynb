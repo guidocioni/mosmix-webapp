{
 "cells": [
  {
   "cell_type": "code",
   "execution_count": 1,
   "metadata": {
    "ExecuteTime": {
     "end_time": "2021-01-07T10:57:38.595667Z",
     "start_time": "2021-01-07T10:57:37.637269Z"
    }
   },
   "outputs": [],
   "source": [
    "from wetterdienst.dwd.forecasts import DWDMosmixData, DWDMosmixType\n",
    "import pandas as pd\n",
    "from wetterdienst.dwd.forecasts.stations import metadata_for_forecasts\n",
    "import os\n",
    "import numpy as np\n",
    "import requests\n",
    "import plotly.express as px\n",
    "\n",
    "apiURL = \"https://api.mapbox.com/directions/v5/mapbox\"\n",
    "apiKey = os.environ['MAPBOX_KEY']"
   ]
  },
  {
   "cell_type": "code",
   "execution_count": 13,
   "metadata": {
    "ExecuteTime": {
     "end_time": "2021-01-07T11:06:22.118615Z",
     "start_time": "2021-01-07T11:06:22.114850Z"
    }
   },
   "outputs": [],
   "source": [
    "def closest_point(data, point):\n",
    "    p = 0.017453292519943295\n",
    "    a = 0.5 - np.cos((data['LAT']-point[\"lat\"])*p)/2 + \\\n",
    "              np.cos(point[\"lat\"]*p)*np.cos(data['LAT']*p) * \\\n",
    "              (1-np.cos((data['LON']-point[\"lon\"])*p)) / 2\n",
    "\n",
    "    dist = 12742 * np.arcsin(np.sqrt(a))\n",
    "    \n",
    "    return data.iloc[dist.argmin()]\n",
    "\n",
    "def get_place_address(place):\n",
    "    apiURL_places = \"https://api.mapbox.com/geocoding/v5/mapbox.places\"\n",
    "\n",
    "    url = \"%s/%s.json?&access_token=%s\" % (apiURL_places, place, apiKey)\n",
    "\n",
    "    response = requests.get(url)\n",
    "    json_data = json.loads(response.text)\n",
    "\n",
    "    place_name = json_data['features'][0]['place_name']\n",
    "    lon, lat = json_data['features'][0]['center']\n",
    "\n",
    "    return {\n",
    "        'place_name': place_name,\n",
    "        'lon': lon,\n",
    "        'lat': lat\n",
    "    }"
   ]
  },
  {
   "cell_type": "code",
   "execution_count": 29,
   "metadata": {
    "ExecuteTime": {
     "end_time": "2021-01-07T11:10:59.257717Z",
     "start_time": "2021-01-07T11:10:59.254799Z"
    }
   },
   "outputs": [],
   "source": [
    "def closest_points(data, point):\n",
    "    p = 0.017453292519943295\n",
    "    a = 0.5 - np.cos((data['LAT']-point[\"lat\"])*p)/2 + \\\n",
    "              np.cos(point[\"lat\"]*p)*np.cos(data['LAT']*p) * \\\n",
    "              (1-np.cos((data['LON']-point[\"lon\"])*p)) / 2\n",
    "\n",
    "    dist = 12742 * np.arcsin(np.sqrt(a))\n",
    "    data['dist'] = dist\n",
    "    \n",
    "    return data.sort_values(by='dist')"
   ]
  },
  {
   "cell_type": "code",
   "execution_count": 36,
   "metadata": {
    "ExecuteTime": {
     "end_time": "2021-01-07T11:26:34.274302Z",
     "start_time": "2021-01-07T11:26:34.201354Z"
    }
   },
   "outputs": [],
   "source": [
    "df = closest_points(mosmix_stations, get_place_address('Frankfurt am Main')).head()"
   ]
  },
  {
   "cell_type": "code",
   "execution_count": 55,
   "metadata": {
    "ExecuteTime": {
     "end_time": "2021-01-07T11:31:50.101146Z",
     "start_time": "2021-01-07T11:31:50.097689Z"
    }
   },
   "outputs": [
    {
     "data": {
      "text/plain": [
       "3615    156.0\n",
       "2632    102.0\n",
       "3608    184.0\n",
       "1463    162.0\n",
       "3614    125.0\n",
       "Name: STATION_HEIGHT, dtype: float64"
      ]
     },
     "execution_count": 55,
     "metadata": {},
     "output_type": "execute_result"
    }
   ],
   "source": [
    "df.STATION_HEIGHT"
   ]
  },
  {
   "cell_type": "code",
   "execution_count": 58,
   "metadata": {
    "ExecuteTime": {
     "end_time": "2021-01-07T11:32:03.037644Z",
     "start_time": "2021-01-07T11:32:03.034515Z"
    }
   },
   "outputs": [],
   "source": [
    "options = []\n",
    "for _, row in df.head().iterrows():\n",
    "    options.append(\n",
    "        {\n",
    "            \"label\": \"%s (%2.1f,%2.1f,%3.0f m)\" % (row.STATION_NAME.lower(), row.LON, row.LAT, row.STATION_HEIGHT),\n",
    "            \"value\": row.WMO_ID\n",
    "        }\n",
    "    )"
   ]
  },
  {
   "cell_type": "code",
   "execution_count": 61,
   "metadata": {
    "ExecuteTime": {
     "end_time": "2021-01-07T11:50:46.363578Z",
     "start_time": "2021-01-07T11:50:46.352998Z"
    }
   },
   "outputs": [
    {
     "data": {
      "text/html": [
       "<div>\n",
       "<style scoped>\n",
       "    .dataframe tbody tr th:only-of-type {\n",
       "        vertical-align: middle;\n",
       "    }\n",
       "\n",
       "    .dataframe tbody tr th {\n",
       "        vertical-align: top;\n",
       "    }\n",
       "\n",
       "    .dataframe thead th {\n",
       "        text-align: right;\n",
       "    }\n",
       "</style>\n",
       "<table border=\"1\" class=\"dataframe\">\n",
       "  <thead>\n",
       "    <tr style=\"text-align: right;\">\n",
       "      <th></th>\n",
       "      <th>WMO_ID</th>\n",
       "      <th>ICAO_ID</th>\n",
       "      <th>STATION_NAME</th>\n",
       "      <th>LAT</th>\n",
       "      <th>LON</th>\n",
       "      <th>STATION_HEIGHT</th>\n",
       "      <th>dist</th>\n",
       "    </tr>\n",
       "  </thead>\n",
       "  <tbody>\n",
       "    <tr>\n",
       "      <th>0</th>\n",
       "      <td>EW002</td>\n",
       "      <td>NaN</td>\n",
       "      <td>Beveringen</td>\n",
       "      <td>53.10</td>\n",
       "      <td>12.13</td>\n",
       "      <td>71.0</td>\n",
       "      <td>408.606358</td>\n",
       "    </tr>\n",
       "    <tr>\n",
       "      <th>1</th>\n",
       "      <td>EW003</td>\n",
       "      <td>NaN</td>\n",
       "      <td>Calvoerde</td>\n",
       "      <td>52.25</td>\n",
       "      <td>11.19</td>\n",
       "      <td>55.0</td>\n",
       "      <td>295.000678</td>\n",
       "    </tr>\n",
       "    <tr>\n",
       "      <th>2</th>\n",
       "      <td>EW004</td>\n",
       "      <td>NaN</td>\n",
       "      <td>Dahlem-Berg</td>\n",
       "      <td>50.23</td>\n",
       "      <td>6.28</td>\n",
       "      <td>600.0</td>\n",
       "      <td>171.387433</td>\n",
       "    </tr>\n",
       "    <tr>\n",
       "      <th>3</th>\n",
       "      <td>EW005</td>\n",
       "      <td>NaN</td>\n",
       "      <td>Delitzsch</td>\n",
       "      <td>51.30</td>\n",
       "      <td>12.23</td>\n",
       "      <td>99.0</td>\n",
       "      <td>282.633234</td>\n",
       "    </tr>\n",
       "    <tr>\n",
       "      <th>4</th>\n",
       "      <td>EW006</td>\n",
       "      <td>NaN</td>\n",
       "      <td>Emden</td>\n",
       "      <td>53.20</td>\n",
       "      <td>7.09</td>\n",
       "      <td>0.0</td>\n",
       "      <td>360.261651</td>\n",
       "    </tr>\n",
       "    <tr>\n",
       "      <th>...</th>\n",
       "      <td>...</td>\n",
       "      <td>...</td>\n",
       "      <td>...</td>\n",
       "      <td>...</td>\n",
       "      <td>...</td>\n",
       "      <td>...</td>\n",
       "      <td>...</td>\n",
       "    </tr>\n",
       "    <tr>\n",
       "      <th>5936</th>\n",
       "      <td>P0650</td>\n",
       "      <td>GOBD</td>\n",
       "      <td>DIASS-THIES AIRPORT</td>\n",
       "      <td>14.40</td>\n",
       "      <td>-17.04</td>\n",
       "      <td>88.0</td>\n",
       "      <td>4600.598693</td>\n",
       "    </tr>\n",
       "    <tr>\n",
       "      <th>5937</th>\n",
       "      <td>89014</td>\n",
       "      <td>NaN</td>\n",
       "      <td>NORDENSKIOLD BASE</td>\n",
       "      <td>73.03</td>\n",
       "      <td>-13.23</td>\n",
       "      <td>495.0</td>\n",
       "      <td>2761.003628</td>\n",
       "    </tr>\n",
       "    <tr>\n",
       "      <th>5938</th>\n",
       "      <td>89022</td>\n",
       "      <td>NaN</td>\n",
       "      <td>HALLEY</td>\n",
       "      <td>75.27</td>\n",
       "      <td>-26.13</td>\n",
       "      <td>30.0</td>\n",
       "      <td>3206.821275</td>\n",
       "    </tr>\n",
       "    <tr>\n",
       "      <th>5939</th>\n",
       "      <td>89504</td>\n",
       "      <td>NaN</td>\n",
       "      <td>TROLL</td>\n",
       "      <td>72.01</td>\n",
       "      <td>2.32</td>\n",
       "      <td>1277.0</td>\n",
       "      <td>2455.505616</td>\n",
       "    </tr>\n",
       "    <tr>\n",
       "      <th>5940</th>\n",
       "      <td>89507</td>\n",
       "      <td>NaN</td>\n",
       "      <td>KOHNEN</td>\n",
       "      <td>75.00</td>\n",
       "      <td>0.00</td>\n",
       "      <td>2892.0</td>\n",
       "      <td>2795.879062</td>\n",
       "    </tr>\n",
       "  </tbody>\n",
       "</table>\n",
       "<p>5941 rows × 7 columns</p>\n",
       "</div>"
      ],
      "text/plain": [
       "     WMO_ID ICAO_ID         STATION_NAME    LAT    LON  STATION_HEIGHT  \\\n",
       "0     EW002     NaN           Beveringen  53.10  12.13            71.0   \n",
       "1     EW003     NaN            Calvoerde  52.25  11.19            55.0   \n",
       "2     EW004     NaN          Dahlem-Berg  50.23   6.28           600.0   \n",
       "3     EW005     NaN            Delitzsch  51.30  12.23            99.0   \n",
       "4     EW006     NaN                Emden  53.20   7.09             0.0   \n",
       "...     ...     ...                  ...    ...    ...             ...   \n",
       "5936  P0650    GOBD  DIASS-THIES AIRPORT  14.40 -17.04            88.0   \n",
       "5937  89014     NaN    NORDENSKIOLD BASE  73.03 -13.23           495.0   \n",
       "5938  89022     NaN               HALLEY  75.27 -26.13            30.0   \n",
       "5939  89504     NaN                TROLL  72.01   2.32          1277.0   \n",
       "5940  89507     NaN               KOHNEN  75.00   0.00          2892.0   \n",
       "\n",
       "             dist  \n",
       "0      408.606358  \n",
       "1      295.000678  \n",
       "2      171.387433  \n",
       "3      282.633234  \n",
       "4      360.261651  \n",
       "...           ...  \n",
       "5936  4600.598693  \n",
       "5937  2761.003628  \n",
       "5938  3206.821275  \n",
       "5939  2455.505616  \n",
       "5940  2795.879062  \n",
       "\n",
       "[5941 rows x 7 columns]"
      ]
     },
     "execution_count": 61,
     "metadata": {},
     "output_type": "execute_result"
    }
   ],
   "source": [
    "mosmix_stations[mosmix_stations.WMO_ID == ]"
   ]
  },
  {
   "cell_type": "code",
   "execution_count": 25,
   "metadata": {
    "ExecuteTime": {
     "end_time": "2021-01-07T11:07:53.155069Z",
     "start_time": "2021-01-07T11:07:53.146722Z"
    }
   },
   "outputs": [
    {
     "data": {
      "text/html": [
       "<div>\n",
       "<style scoped>\n",
       "    .dataframe tbody tr th:only-of-type {\n",
       "        vertical-align: middle;\n",
       "    }\n",
       "\n",
       "    .dataframe tbody tr th {\n",
       "        vertical-align: top;\n",
       "    }\n",
       "\n",
       "    .dataframe thead th {\n",
       "        text-align: right;\n",
       "    }\n",
       "</style>\n",
       "<table border=\"1\" class=\"dataframe\">\n",
       "  <thead>\n",
       "    <tr style=\"text-align: right;\">\n",
       "      <th></th>\n",
       "      <th>WMO_ID</th>\n",
       "      <th>ICAO_ID</th>\n",
       "      <th>STATION_NAME</th>\n",
       "      <th>LAT</th>\n",
       "      <th>LON</th>\n",
       "      <th>STATION_HEIGHT</th>\n",
       "    </tr>\n",
       "  </thead>\n",
       "  <tbody>\n",
       "    <tr>\n",
       "      <th>910</th>\n",
       "      <td>16170</td>\n",
       "      <td>LIRQ</td>\n",
       "      <td>FLORENZ</td>\n",
       "      <td>43.48</td>\n",
       "      <td>11.12</td>\n",
       "      <td>40.0</td>\n",
       "    </tr>\n",
       "  </tbody>\n",
       "</table>\n",
       "</div>"
      ],
      "text/plain": [
       "    WMO_ID ICAO_ID STATION_NAME    LAT    LON  STATION_HEIGHT\n",
       "910  16170    LIRQ      FLORENZ  43.48  11.12            40.0"
      ]
     },
     "execution_count": 25,
     "metadata": {},
     "output_type": "execute_result"
    }
   ],
   "source": [
    "mosmix_stations[mosmix_stations['STATION_NAME'] =='FLORENZ']"
   ]
  },
  {
   "cell_type": "code",
   "execution_count": 15,
   "metadata": {
    "ExecuteTime": {
     "end_time": "2021-01-07T11:06:25.283420Z",
     "start_time": "2021-01-07T11:06:25.275558Z"
    }
   },
   "outputs": [],
   "source": [
    "mosmix_stations = metadata_for_forecasts()\n",
    "mosmix_stations['LAT'] = mosmix_stations['LAT'].astype(float)\n",
    "mosmix_stations['LON'] = mosmix_stations['LON'].astype(float)\n",
    "mosmix_stations['STATION_HEIGHT'] = mosmix_stations['STATION_HEIGHT'].astype(float)"
   ]
  },
  {
   "cell_type": "code",
   "execution_count": 23,
   "metadata": {
    "ExecuteTime": {
     "end_time": "2021-01-07T11:07:14.324895Z",
     "start_time": "2021-01-07T11:07:14.258103Z"
    }
   },
   "outputs": [
    {
     "data": {
      "text/plain": [
       "WMO_ID                     16136\n",
       "ICAO_ID                     LIQD\n",
       "STATION_NAME      PASSO PORRETTA\n",
       "LAT                        44.01\n",
       "LON                        11.00\n",
       "STATION_HEIGHT           1313.00\n",
       "Name: 2204, dtype: object"
      ]
     },
     "execution_count": 23,
     "metadata": {},
     "output_type": "execute_result"
    }
   ],
   "source": [
    "closest_point(mosmix_stations, get_place_address('Florence'))"
   ]
  },
  {
   "cell_type": "code",
   "execution_count": 26,
   "metadata": {
    "ExecuteTime": {
     "end_time": "2021-01-07T11:08:05.565638Z",
     "start_time": "2021-01-07T11:08:05.505218Z"
    }
   },
   "outputs": [
    {
     "data": {
      "text/plain": [
       "{'place_name': 'Firenze, Florence, Italy', 'lon': 11.25417, 'lat': 43.77139}"
      ]
     },
     "execution_count": 26,
     "metadata": {},
     "output_type": "execute_result"
    }
   ],
   "source": [
    "get_place_address('Florence')"
   ]
  },
  {
   "cell_type": "code",
   "execution_count": 108,
   "metadata": {
    "ExecuteTime": {
     "end_time": "2021-01-07T15:27:44.476336Z",
     "start_time": "2021-01-07T15:27:43.746487Z"
    }
   },
   "outputs": [
    {
     "name": "stderr",
     "output_type": "stream",
     "text": [
      "https://opendata.dwd.de/weather/local_forecasts/mos/MOSMIX_L/single_stations/L648/kml/MOSMIX_L_LATEST_L648.kmz: 100%|██████████| 17.4k/17.4k [00:00<00:00, 74.8MiB/s]\n"
     ]
    }
   ],
   "source": [
    "mosmix = DWDMosmixData(\n",
    "    station_ids=[\"L648\"],\n",
    "    mosmix_type=DWDMosmixType.LARGE,\n",
    "    humanize_parameters = True,\n",
    "    tidy_data=True\n",
    ")\n",
    "\n",
    "for data in mosmix.query():\n",
    "    break\n",
    "\n",
    "# print(response.metadata)\n",
    "# print(response.data)"
   ]
  },
  {
   "cell_type": "code",
   "execution_count": 109,
   "metadata": {
    "ExecuteTime": {
     "end_time": "2021-01-07T15:27:45.972003Z",
     "start_time": "2021-01-07T15:27:45.970138Z"
    }
   },
   "outputs": [],
   "source": [
    "df = data.data"
   ]
  },
  {
   "cell_type": "code",
   "execution_count": 113,
   "metadata": {
    "ExecuteTime": {
     "end_time": "2021-01-07T15:39:06.822765Z",
     "start_time": "2021-01-07T15:39:06.808170Z"
    }
   },
   "outputs": [
    {
     "data": {
      "text/html": [
       "<div>\n",
       "<style scoped>\n",
       "    .dataframe tbody tr th:only-of-type {\n",
       "        vertical-align: middle;\n",
       "    }\n",
       "\n",
       "    .dataframe tbody tr th {\n",
       "        vertical-align: top;\n",
       "    }\n",
       "\n",
       "    .dataframe thead th {\n",
       "        text-align: right;\n",
       "    }\n",
       "</style>\n",
       "<table border=\"1\" class=\"dataframe\">\n",
       "  <thead>\n",
       "    <tr style=\"text-align: right;\">\n",
       "      <th></th>\n",
       "      <th>STATION_ID</th>\n",
       "      <th>DATE</th>\n",
       "      <th>PARAMETER</th>\n",
       "      <th>VALUE</th>\n",
       "    </tr>\n",
       "  </thead>\n",
       "  <tbody>\n",
       "    <tr>\n",
       "      <th>17290</th>\n",
       "      <td>L648</td>\n",
       "      <td>2021-01-07 10:00:00+00:00</td>\n",
       "      <td>PRECIPITATION_CONSIST_LAST_1H</td>\n",
       "      <td>0.0</td>\n",
       "    </tr>\n",
       "    <tr>\n",
       "      <th>17291</th>\n",
       "      <td>L648</td>\n",
       "      <td>2021-01-07 11:00:00+00:00</td>\n",
       "      <td>PRECIPITATION_CONSIST_LAST_1H</td>\n",
       "      <td>0.0</td>\n",
       "    </tr>\n",
       "    <tr>\n",
       "      <th>17292</th>\n",
       "      <td>L648</td>\n",
       "      <td>2021-01-07 12:00:00+00:00</td>\n",
       "      <td>PRECIPITATION_CONSIST_LAST_1H</td>\n",
       "      <td>0.0</td>\n",
       "    </tr>\n",
       "    <tr>\n",
       "      <th>17293</th>\n",
       "      <td>L648</td>\n",
       "      <td>2021-01-07 13:00:00+00:00</td>\n",
       "      <td>PRECIPITATION_CONSIST_LAST_1H</td>\n",
       "      <td>0.0</td>\n",
       "    </tr>\n",
       "    <tr>\n",
       "      <th>17294</th>\n",
       "      <td>L648</td>\n",
       "      <td>2021-01-07 14:00:00+00:00</td>\n",
       "      <td>PRECIPITATION_CONSIST_LAST_1H</td>\n",
       "      <td>0.0</td>\n",
       "    </tr>\n",
       "    <tr>\n",
       "      <th>...</th>\n",
       "      <td>...</td>\n",
       "      <td>...</td>\n",
       "      <td>...</td>\n",
       "      <td>...</td>\n",
       "    </tr>\n",
       "    <tr>\n",
       "      <th>17532</th>\n",
       "      <td>L648</td>\n",
       "      <td>2021-01-17 12:00:00+00:00</td>\n",
       "      <td>PRECIPITATION_CONSIST_LAST_1H</td>\n",
       "      <td>0.0</td>\n",
       "    </tr>\n",
       "    <tr>\n",
       "      <th>17533</th>\n",
       "      <td>L648</td>\n",
       "      <td>2021-01-17 13:00:00+00:00</td>\n",
       "      <td>PRECIPITATION_CONSIST_LAST_1H</td>\n",
       "      <td>0.0</td>\n",
       "    </tr>\n",
       "    <tr>\n",
       "      <th>17534</th>\n",
       "      <td>L648</td>\n",
       "      <td>2021-01-17 14:00:00+00:00</td>\n",
       "      <td>PRECIPITATION_CONSIST_LAST_1H</td>\n",
       "      <td>0.0</td>\n",
       "    </tr>\n",
       "    <tr>\n",
       "      <th>17535</th>\n",
       "      <td>L648</td>\n",
       "      <td>2021-01-17 15:00:00+00:00</td>\n",
       "      <td>PRECIPITATION_CONSIST_LAST_1H</td>\n",
       "      <td>0.0</td>\n",
       "    </tr>\n",
       "    <tr>\n",
       "      <th>17536</th>\n",
       "      <td>L648</td>\n",
       "      <td>2021-01-17 16:00:00+00:00</td>\n",
       "      <td>PRECIPITATION_CONSIST_LAST_1H</td>\n",
       "      <td>0.0</td>\n",
       "    </tr>\n",
       "  </tbody>\n",
       "</table>\n",
       "<p>247 rows × 4 columns</p>\n",
       "</div>"
      ],
      "text/plain": [
       "      STATION_ID                      DATE                      PARAMETER  \\\n",
       "17290       L648 2021-01-07 10:00:00+00:00  PRECIPITATION_CONSIST_LAST_1H   \n",
       "17291       L648 2021-01-07 11:00:00+00:00  PRECIPITATION_CONSIST_LAST_1H   \n",
       "17292       L648 2021-01-07 12:00:00+00:00  PRECIPITATION_CONSIST_LAST_1H   \n",
       "17293       L648 2021-01-07 13:00:00+00:00  PRECIPITATION_CONSIST_LAST_1H   \n",
       "17294       L648 2021-01-07 14:00:00+00:00  PRECIPITATION_CONSIST_LAST_1H   \n",
       "...          ...                       ...                            ...   \n",
       "17532       L648 2021-01-17 12:00:00+00:00  PRECIPITATION_CONSIST_LAST_1H   \n",
       "17533       L648 2021-01-17 13:00:00+00:00  PRECIPITATION_CONSIST_LAST_1H   \n",
       "17534       L648 2021-01-17 14:00:00+00:00  PRECIPITATION_CONSIST_LAST_1H   \n",
       "17535       L648 2021-01-17 15:00:00+00:00  PRECIPITATION_CONSIST_LAST_1H   \n",
       "17536       L648 2021-01-17 16:00:00+00:00  PRECIPITATION_CONSIST_LAST_1H   \n",
       "\n",
       "       VALUE  \n",
       "17290    0.0  \n",
       "17291    0.0  \n",
       "17292    0.0  \n",
       "17293    0.0  \n",
       "17294    0.0  \n",
       "...      ...  \n",
       "17532    0.0  \n",
       "17533    0.0  \n",
       "17534    0.0  \n",
       "17535    0.0  \n",
       "17536    0.0  \n",
       "\n",
       "[247 rows x 4 columns]"
      ]
     },
     "execution_count": 113,
     "metadata": {},
     "output_type": "execute_result"
    }
   ],
   "source": [
    "df.loc[df.PARAMETER.isin(['PRECIPITATION_CONSIST_LAST_1H'])]"
   ]
  },
  {
   "cell_type": "code",
   "execution_count": 114,
   "metadata": {
    "ExecuteTime": {
     "end_time": "2021-01-07T15:53:16.886705Z",
     "start_time": "2021-01-07T15:53:16.884235Z"
    }
   },
   "outputs": [],
   "source": [
    "def wind_components(speed, wdir):\n",
    "    '''Get wind components from speed and direction.'''\n",
    "\n",
    "    wdir = np.deg2rad(wdir)\n",
    "\n",
    "    u = speed * np.sin(wdir)\n",
    "    v = speed * np.cos(wdir)\n",
    "\n",
    "    return u, v"
   ]
  },
  {
   "cell_type": "code",
   "execution_count": 137,
   "metadata": {
    "ExecuteTime": {
     "end_time": "2021-01-07T16:51:14.750211Z",
     "start_time": "2021-01-07T16:51:14.734523Z"
    }
   },
   "outputs": [
    {
     "data": {
      "text/html": [
       "<div>\n",
       "<style scoped>\n",
       "    .dataframe tbody tr th:only-of-type {\n",
       "        vertical-align: middle;\n",
       "    }\n",
       "\n",
       "    .dataframe tbody tr th {\n",
       "        vertical-align: top;\n",
       "    }\n",
       "\n",
       "    .dataframe thead th {\n",
       "        text-align: right;\n",
       "    }\n",
       "</style>\n",
       "<table border=\"1\" class=\"dataframe\">\n",
       "  <thead>\n",
       "    <tr style=\"text-align: right;\">\n",
       "      <th></th>\n",
       "      <th>DATE</th>\n",
       "      <th>STATION_ID</th>\n",
       "      <th>PARAMETER</th>\n",
       "      <th>VALUE</th>\n",
       "    </tr>\n",
       "  </thead>\n",
       "  <tbody>\n",
       "    <tr>\n",
       "      <th>0</th>\n",
       "      <td>2021-01-07 09:00:00+00:00</td>\n",
       "      <td>L648</td>\n",
       "      <td>WEATHER_SIGNIFICANT</td>\n",
       "      <td>3.0</td>\n",
       "    </tr>\n",
       "    <tr>\n",
       "      <th>1</th>\n",
       "      <td>2021-01-07 12:00:00+00:00</td>\n",
       "      <td>L648</td>\n",
       "      <td>WEATHER_SIGNIFICANT</td>\n",
       "      <td>3.0</td>\n",
       "    </tr>\n",
       "    <tr>\n",
       "      <th>2</th>\n",
       "      <td>2021-01-07 15:00:00+00:00</td>\n",
       "      <td>L648</td>\n",
       "      <td>WEATHER_SIGNIFICANT</td>\n",
       "      <td>3.0</td>\n",
       "    </tr>\n",
       "    <tr>\n",
       "      <th>3</th>\n",
       "      <td>2021-01-07 18:00:00+00:00</td>\n",
       "      <td>L648</td>\n",
       "      <td>WEATHER_SIGNIFICANT</td>\n",
       "      <td>71.0</td>\n",
       "    </tr>\n",
       "    <tr>\n",
       "      <th>4</th>\n",
       "      <td>2021-01-07 21:00:00+00:00</td>\n",
       "      <td>L648</td>\n",
       "      <td>WEATHER_SIGNIFICANT</td>\n",
       "      <td>71.0</td>\n",
       "    </tr>\n",
       "    <tr>\n",
       "      <th>...</th>\n",
       "      <td>...</td>\n",
       "      <td>...</td>\n",
       "      <td>...</td>\n",
       "      <td>...</td>\n",
       "    </tr>\n",
       "    <tr>\n",
       "      <th>78</th>\n",
       "      <td>2021-01-17 03:00:00+00:00</td>\n",
       "      <td>L648</td>\n",
       "      <td>WEATHER_SIGNIFICANT</td>\n",
       "      <td>3.0</td>\n",
       "    </tr>\n",
       "    <tr>\n",
       "      <th>79</th>\n",
       "      <td>2021-01-17 06:00:00+00:00</td>\n",
       "      <td>L648</td>\n",
       "      <td>WEATHER_SIGNIFICANT</td>\n",
       "      <td>3.0</td>\n",
       "    </tr>\n",
       "    <tr>\n",
       "      <th>80</th>\n",
       "      <td>2021-01-17 09:00:00+00:00</td>\n",
       "      <td>L648</td>\n",
       "      <td>WEATHER_SIGNIFICANT</td>\n",
       "      <td>3.0</td>\n",
       "    </tr>\n",
       "    <tr>\n",
       "      <th>81</th>\n",
       "      <td>2021-01-17 12:00:00+00:00</td>\n",
       "      <td>L648</td>\n",
       "      <td>WEATHER_SIGNIFICANT</td>\n",
       "      <td>3.0</td>\n",
       "    </tr>\n",
       "    <tr>\n",
       "      <th>82</th>\n",
       "      <td>2021-01-17 15:00:00+00:00</td>\n",
       "      <td>L648</td>\n",
       "      <td>WEATHER_SIGNIFICANT</td>\n",
       "      <td>3.0</td>\n",
       "    </tr>\n",
       "  </tbody>\n",
       "</table>\n",
       "<p>83 rows × 4 columns</p>\n",
       "</div>"
      ],
      "text/plain": [
       "                        DATE STATION_ID            PARAMETER  VALUE\n",
       "0  2021-01-07 09:00:00+00:00       L648  WEATHER_SIGNIFICANT    3.0\n",
       "1  2021-01-07 12:00:00+00:00       L648  WEATHER_SIGNIFICANT    3.0\n",
       "2  2021-01-07 15:00:00+00:00       L648  WEATHER_SIGNIFICANT    3.0\n",
       "3  2021-01-07 18:00:00+00:00       L648  WEATHER_SIGNIFICANT   71.0\n",
       "4  2021-01-07 21:00:00+00:00       L648  WEATHER_SIGNIFICANT   71.0\n",
       "..                       ...        ...                  ...    ...\n",
       "78 2021-01-17 03:00:00+00:00       L648  WEATHER_SIGNIFICANT    3.0\n",
       "79 2021-01-17 06:00:00+00:00       L648  WEATHER_SIGNIFICANT    3.0\n",
       "80 2021-01-17 09:00:00+00:00       L648  WEATHER_SIGNIFICANT    3.0\n",
       "81 2021-01-17 12:00:00+00:00       L648  WEATHER_SIGNIFICANT    3.0\n",
       "82 2021-01-17 15:00:00+00:00       L648  WEATHER_SIGNIFICANT    3.0\n",
       "\n",
       "[83 rows x 4 columns]"
      ]
     },
     "execution_count": 137,
     "metadata": {},
     "output_type": "execute_result"
    }
   ],
   "source": [
    "df.loc[df.PARAMETER.isin(['WEATHER_SIGNIFICANT'])].set_index('DATE').resample('3H').nearest().reset_index()"
   ]
  },
  {
   "cell_type": "code",
   "execution_count": 124,
   "metadata": {
    "ExecuteTime": {
     "end_time": "2021-01-07T15:56:41.282905Z",
     "start_time": "2021-01-07T15:56:41.280067Z"
    }
   },
   "outputs": [],
   "source": [
    "u, v = wind_components(df.loc[df.PARAMETER =='WIND_SPEED', 'VALUE'].values,\n",
    "                df.loc[df.PARAMETER =='WIND_DIRECTION', 'VALUE'].values)"
   ]
  }
 ],
 "metadata": {
  "kernelspec": {
   "display_name": "Python 3",
   "language": "python",
   "name": "python3"
  },
  "language_info": {
   "codemirror_mode": {
    "name": "ipython",
    "version": 3
   },
   "file_extension": ".py",
   "mimetype": "text/x-python",
   "name": "python",
   "nbconvert_exporter": "python",
   "pygments_lexer": "ipython3",
   "version": "3.8.5"
  },
  "varInspector": {
   "cols": {
    "lenName": 16,
    "lenType": 16,
    "lenVar": 40
   },
   "kernels_config": {
    "python": {
     "delete_cmd_postfix": "",
     "delete_cmd_prefix": "del ",
     "library": "var_list.py",
     "varRefreshCmd": "print(var_dic_list())"
    },
    "r": {
     "delete_cmd_postfix": ") ",
     "delete_cmd_prefix": "rm(",
     "library": "var_list.r",
     "varRefreshCmd": "cat(var_dic_list()) "
    }
   },
   "types_to_exclude": [
    "module",
    "function",
    "builtin_function_or_method",
    "instance",
    "_Feature"
   ],
   "window_display": false
  }
 },
 "nbformat": 4,
 "nbformat_minor": 4
}
